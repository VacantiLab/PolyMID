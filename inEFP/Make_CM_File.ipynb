{
 "cells": [
  {
   "cell_type": "code",
   "execution_count": 42,
   "metadata": {},
   "outputs": [],
   "source": [
    "import sys\n",
    "sys.path.append(\"../../\")\n",
    "import PolyMID\n",
    "import pandas as pd\n",
    "from PolyMID.AnalyzeSpectra import fragment_library\n",
    "import numpy as np\n",
    "\n",
    "from pdb import set_trace"
   ]
  },
  {
   "cell_type": "code",
   "execution_count": 2,
   "metadata": {},
   "outputs": [
    {
     "name": "stdout",
     "output_type": "stream",
     "text": [
      "    pyruvate_mox_tbdms\n",
      "    lactate_2tbdms\n",
      "    alanine_2tbdms\n",
      "    glycine_2tbdms\n",
      "    3-hydroxypropionicacid_2tbdms\n",
      "    valine_2tbdms\n",
      "    norvaline_2tbdms\n",
      "    beta-alanine_2tbdms\n",
      "    leucine_2tbdms\n",
      "    isoleucine_2tbdms\n",
      "    succinate_2tbdms\n",
      "    uracil_2tbdms\n",
      "    fumarate_2tbdms\n",
      "    serine_3tbdms\n",
      "    threonine_3tbdms\n",
      "    taurine_2tbdms\n",
      "    methionine_2tbdms\n",
      "    alpha-ketoglutarate_mox_2tbdms\n",
      "    malate_3tbdms\n",
      "    phenylalanine_2tbdms\n",
      "    aspartate_3tbdms\n",
      "    proline_MOX_2tbdms\n",
      "    glutamate_3tbdms\n",
      "    asparagine_3tbdms\n",
      "    lysine_3tbdms\n",
      "    glutamine_3tbdms\n",
      "    arginine_4tbdms\n",
      "    citrate_4tbdms\n",
      "    tyrosine_3tbdms\n",
      "    histidine_3tbdms\n",
      "    tryptophan_3tbdms\n",
      "    glucose\n",
      "    glucose_clean\n"
     ]
    }
   ],
   "source": [
    "file_directory = './'\n",
    "metabolite_dict,metabolite_list = fragment_library.fragment_library(file_directory=file_directory,Full_NC=False)"
   ]
  },
  {
   "cell_type": "code",
   "execution_count": 34,
   "metadata": {},
   "outputs": [],
   "source": [
    "Standard_MID_DF = pd.read_csv('Internal_Standards.txt', delimiter='\\t', index_col=0)\n",
    "fragments = Standard_MID_DF.columns\n",
    "\n",
    "for met_key in metabolite_dict.keys():\n",
    "    for frag_key in metabolite_dict[met_key]['fragments'].keys():\n",
    "        if frag_key in fragments:\n",
    "            Natural_MID = metabolite_dict[met_key]['fragments'][frag_key]['natural_mid'][0:13]\n",
    "            frag_key_position = Standard_MID_DF.columns.get_loc(frag_key)\n",
    "            Standard_MID_DF.iloc[0:13,frag_key_position] = Natural_MID\n",
    "            Standard_MID_DF.iloc[13:26,frag_key_position] = np.zeros(13)\n",
    "\n",
    "Standard_MID_DF.to_csv('Internal_Standards_Filled.txt', sep='\\t', index=True, header=True)"
   ]
  },
  {
   "cell_type": "code",
   "execution_count": 47,
   "metadata": {},
   "outputs": [
    {
     "name": "stdout",
     "output_type": "stream",
     "text": [
      "                 is01      is02  is03   average\n",
      "lactate_233  0.742905  0.741679   0.0  0.494861\n",
      "lactate_233  0.158084  0.159010   0.0  0.105698\n",
      "lactate_233  0.078177  0.079529   0.0  0.052569\n",
      "lactate_233  0.012595  0.011241   0.0  0.007945\n",
      "lactate_233  0.008240  0.008541   0.0  0.005594\n",
      "...               ...       ...   ...       ...\n",
      "glucose_273  0.000000  0.000000   0.0  0.000000\n",
      "glucose_273  0.000000  0.000000   0.0  0.000000\n",
      "glucose_273  0.000000  0.000000   0.0  0.000000\n",
      "glucose_273  0.000000  0.000000   0.0  0.000000\n",
      "glucose_273  0.000000  0.000000   0.0  0.000000\n",
      "\n",
      "[526 rows x 4 columns]\n"
     ]
    }
   ],
   "source": [
    "Labeled_Standard_DF = pd.read_csv('Internal_Standards_Uncorrected.txt', delimiter='\\t', index_col=0)\n",
    "\n",
    "MID_indices = [False]*len(Labeled_Standard_DF.index)\n",
    "for i in range(len(Labeled_Standard_DF.index)):\n",
    "    MID_Condition = (str(Labeled_Standard_DF.index[i])[-2] == 'M') | (str(Labeled_Standard_DF.index[i])[-3] == 'M')\n",
    "    MID_indices[i] = MID_Condition\n",
    "\n",
    "MID_DF = Labeled_Standard_DF[MID_indices].copy()\n",
    "MID_DF.index = [MID_DF.index[i][0:-3] for i in range(len(MID_DF.index))]\n",
    "MID_DF.drop('predicted',axis=1,inplace=True)\n",
    "MID_DF['average'] = MID_DF.iloc[:, 0:3].mean(axis=1)\n",
    "print(MID_DF)"
   ]
  },
  {
   "cell_type": "code",
   "execution_count": 48,
   "metadata": {},
   "outputs": [
    {
     "name": "stdout",
     "output_type": "stream",
     "text": [
      "> \u001b[0;32m/var/folders/mz/w7vwcsb17098wvqdr84by1sc0000gr/T/ipykernel_16462/2835337949.py\u001b[0m(7)\u001b[0;36m<module>\u001b[0;34m()\u001b[0m\n",
      "\u001b[0;32m      5 \u001b[0;31m        \u001b[0mset_trace\u001b[0m\u001b[0;34m(\u001b[0m\u001b[0;34m)\u001b[0m\u001b[0;34m\u001b[0m\u001b[0;34m\u001b[0m\u001b[0m\n",
      "\u001b[0m\u001b[0;32m      6 \u001b[0;31m\u001b[0;34m\u001b[0m\u001b[0m\n",
      "\u001b[0m\u001b[0;32m----> 7 \u001b[0;31m    \u001b[0mfrag_position\u001b[0m \u001b[0;34m=\u001b[0m \u001b[0mStandard_MID_DF\u001b[0m\u001b[0;34m.\u001b[0m\u001b[0mcolumns\u001b[0m\u001b[0;34m.\u001b[0m\u001b[0mget_loc\u001b[0m\u001b[0;34m(\u001b[0m\u001b[0mfrag\u001b[0m\u001b[0;34m)\u001b[0m\u001b[0;34m\u001b[0m\u001b[0;34m\u001b[0m\u001b[0m\n",
      "\u001b[0m\u001b[0;32m      8 \u001b[0;31m    \u001b[0mStandard_MID_DF\u001b[0m\u001b[0;34m.\u001b[0m\u001b[0miloc\u001b[0m\u001b[0;34m[\u001b[0m\u001b[0;36m13\u001b[0m\u001b[0;34m:\u001b[0m\u001b[0;34m(\u001b[0m\u001b[0;36m13\u001b[0m\u001b[0;34m+\u001b[0m\u001b[0mlen\u001b[0m\u001b[0;34m(\u001b[0m\u001b[0mfrag_MID\u001b[0m\u001b[0;34m)\u001b[0m\u001b[0;34m)\u001b[0m\u001b[0;34m,\u001b[0m\u001b[0mfrag_position\u001b[0m\u001b[0;34m]\u001b[0m \u001b[0;34m=\u001b[0m \u001b[0mfrag_MID\u001b[0m\u001b[0;34m\u001b[0m\u001b[0;34m\u001b[0m\u001b[0m\n",
      "\u001b[0m\u001b[0;32m      9 \u001b[0;31m\u001b[0;34m\u001b[0m\u001b[0m\n",
      "\u001b[0m\n",
      "phenylalanine_336    0.000000\n",
      "phenylalanine_336    0.000000\n",
      "phenylalanine_336    0.000000\n",
      "phenylalanine_336    0.000000\n",
      "phenylalanine_336    0.000000\n",
      "phenylalanine_336    0.000257\n",
      "phenylalanine_336    0.000478\n",
      "phenylalanine_336    0.001384\n",
      "phenylalanine_336    0.002993\n",
      "phenylalanine_336    0.075575\n",
      "Name: average, dtype: float64\n"
     ]
    }
   ],
   "source": [
    "for frag in fragments:\n",
    "    frag_indices = MID_DF.index ==frag\n",
    "    frag_MID = MID_DF.loc[frag_indices,'average']\n",
    "    if frag=='phenylalanine_336':\n",
    "        set_trace()\n",
    "\n",
    "    frag_position = Standard_MID_DF.columns.get_loc(frag)\n",
    "    Standard_MID_DF.iloc[13:(13+len(frag_MID)),frag_position] = frag_MID\n",
    "    "
   ]
  },
  {
   "cell_type": "code",
   "execution_count": 41,
   "metadata": {},
   "outputs": [],
   "source": [
    "Standard_MID_DF.to_csv('Internal_Standards_Filled.txt', sep='\\t', index=True, header=True)"
   ]
  }
 ],
 "metadata": {
  "kernelspec": {
   "display_name": "analysis",
   "language": "python",
   "name": "python3"
  },
  "language_info": {
   "codemirror_mode": {
    "name": "ipython",
    "version": 3
   },
   "file_extension": ".py",
   "mimetype": "text/x-python",
   "name": "python",
   "nbconvert_exporter": "python",
   "pygments_lexer": "ipython3",
   "version": "3.9.18"
  }
 },
 "nbformat": 4,
 "nbformat_minor": 2
}
