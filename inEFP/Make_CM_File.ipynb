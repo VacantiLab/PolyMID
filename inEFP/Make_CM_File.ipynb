{
 "cells": [
  {
   "cell_type": "code",
   "execution_count": 1,
   "metadata": {},
   "outputs": [],
   "source": [
    "import sys\n",
    "sys.path.append(\"../../\")\n",
    "import PolyMID\n",
    "import pandas as pd\n",
    "from PolyMID.AnalyzeSpectra import fragment_library\n",
    "import numpy as np\n",
    "\n",
    "from pdb import set_trace"
   ]
  },
  {
   "cell_type": "code",
   "execution_count": 2,
   "metadata": {},
   "outputs": [
    {
     "name": "stdout",
     "output_type": "stream",
     "text": [
      "    lactate_2tbdms\n",
      "    alanine_2tbdms\n",
      "    glycine_2tbdms\n",
      "    3-hydroxypropionicacid_2tbdms\n",
      "    valine_2tbdms\n",
      "    leucine_2tbdms\n",
      "    isoleucine_2tbdms\n",
      "    serine_3tbdms\n",
      "    threonine_3tbdms\n",
      "    methionine_2tbdms\n",
      "    phenylalanine_2tbdms\n",
      "    aspartate_3tbdms\n",
      "    glutamate_3tbdms\n",
      "    asparagine_3tbdms\n",
      "    lysine_3tbdms\n",
      "    glutamine_3tbdms\n",
      "    arginine_4tbdms\n",
      "    tyrosine_3tbdms\n",
      "    histidine_3tbdms\n",
      "    tryptophan_3tbdms\n",
      "    glucose_clean\n"
     ]
    }
   ],
   "source": [
    "# Get the metabolite library\n",
    "file_directory = './'\n",
    "metabolite_dict,metabolite_list = fragment_library.fragment_library(file_directory=file_directory,Full_NC=False)"
   ]
  },
  {
   "cell_type": "code",
   "execution_count": 5,
   "metadata": {},
   "outputs": [],
   "source": [
    "# Fill in the MIDs for the unlabeled compounds of interest\n",
    "Standard_MID_DF = pd.read_csv('Internal_Standards.txt', delimiter='\\t', index_col=0)\n",
    "fragments = Standard_MID_DF.columns\n",
    "MID_length = 15\n",
    "\n",
    "for met_key in metabolite_dict.keys():\n",
    "    for frag_key in metabolite_dict[met_key]['fragments'].keys():\n",
    "        if frag_key in fragments:\n",
    "            Natural_MID = metabolite_dict[met_key]['fragments'][frag_key]['natural_mid'][0:MID_length]\n",
    "            frag_key_position = Standard_MID_DF.columns.get_loc(frag_key)\n",
    "            Standard_MID_DF.iloc[0:MID_length,frag_key_position] = Natural_MID\n",
    "            Standard_MID_DF.iloc[MID_length:2*MID_length,frag_key_position] = np.zeros(MID_length)"
   ]
  },
  {
   "cell_type": "code",
   "execution_count": 12,
   "metadata": {},
   "outputs": [],
   "source": [
    "# Fill in the MIDs for the labeled compounds of interest (internal standards)\n",
    "\n",
    "# Open the file with the uncorrected MIDs from the Integrate() function\n",
    "#   Note the last column of this file needs to be named 'predicted' manually\n",
    "Labeled_Standard_DF = pd.read_csv('Internal_Standards_Uncorrected.txt', delimiter='\\t', index_col=0)\n",
    "\n",
    "MID_indices = [False]*len(Labeled_Standard_DF.index)\n",
    "for i in range(len(Labeled_Standard_DF.index)):\n",
    "    MID_Condition = (str(Labeled_Standard_DF.index[i])[-2] == 'M') | (str(Labeled_Standard_DF.index[i])[-3] == 'M')\n",
    "    MID_indices[i] = MID_Condition\n",
    "\n",
    "MID_DF = Labeled_Standard_DF[MID_indices].copy()\n",
    "MID_DF.index = [MID_DF.index[i][0:(MID_DF.index[i].find('_')+4)] for i in range(len(MID_DF.index))]\n",
    "MID_DF.drop('theoretical',axis=1,inplace=True)\n",
    "MID_DF.drop('nothing',axis=1,inplace=True)\n",
    "MID_DF['average'] = MID_DF.iloc[:, 0:3].mean(axis=1)\n",
    "\n",
    "for frag in fragments:\n",
    "    frag_indices = MID_DF.index ==frag\n",
    "    frag_MID = MID_DF.loc[frag_indices,'average']\n",
    "    frag_MID = np.array(frag_MID)\n",
    "    if len(frag_MID) > MID_length:\n",
    "        frag_MID = frag_MID[0:MID_length]\n",
    "    frag_position = Standard_MID_DF.columns.get_loc(frag)\n",
    "    Standard_MID_DF.iloc[MID_length:(MID_length+len(frag_MID)),frag_position] = frag_MID\n",
    "\n",
    "# Print the filled in data frame\n",
    "Standard_MID_DF.to_csv('Internal_Standards_Filled.txt', sep='\\t', index=True, header=True)"
   ]
  },
  {
   "cell_type": "code",
   "execution_count": null,
   "metadata": {},
   "outputs": [],
   "source": [
    "# have a list of FullNC metabolites\n",
    "# need to manually add the MID for labeled and unlabeled glucose fragment\n",
    "# need to deconvolute the glucose peak\n",
    "# need to have a script that uses HPA as an internal standard for lactate\n",
    "\n",
    "# supress the library saving as a pickle file - done?\n",
    "# have the library entries extended for intengration only by the number of nitrogens in the metabolite when Full_NC is True - done?"
   ]
  }
 ],
 "metadata": {
  "kernelspec": {
   "display_name": "analysis",
   "language": "python",
   "name": "python3"
  },
  "language_info": {
   "codemirror_mode": {
    "name": "ipython",
    "version": 3
   },
   "file_extension": ".py",
   "mimetype": "text/x-python",
   "name": "python",
   "nbconvert_exporter": "python",
   "pygments_lexer": "ipython3",
   "version": "3.9.18"
  }
 },
 "nbformat": 4,
 "nbformat_minor": 2
}
