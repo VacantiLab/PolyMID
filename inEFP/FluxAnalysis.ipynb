{
 "cells": [
  {
   "cell_type": "code",
   "execution_count": 1,
   "metadata": {},
   "outputs": [],
   "source": [
    "import numpy as np\n",
    "import pandas as pd\n",
    "import seaborn as sns\n",
    "import matplotlib.pyplot as plt"
   ]
  },
  {
   "cell_type": "code",
   "execution_count": 112,
   "metadata": {},
   "outputs": [],
   "source": [
    "# Open the data file\n",
    "File_Path = '/Users/nv83/Dropbox/Research/Vacanti_Laboratory/projects/Alzheimers/MouseAstrocytes_oAB_INSRinhibition/inEFP/Astrocytes_inEFP.AIA/RelativeFluxes.xlsx'\n",
    "RawData = pd.read_excel(File_Path, sheet_name='MIDs')\n",
    "\n",
    "# Set the row names\n",
    "RawData.index = RawData.loc[:,'Unnamed: 0']\n",
    "RawData.drop('Unnamed: 0', axis=1, inplace=True)\n",
    "\n",
    "# Set the column names and drop unwanted columns\n",
    "RawData.columns = RawData.iloc[1,:]\n",
    "ColumsToDrop = ['fm3-2','theoretical','nothing']\n",
    "[RawData.drop(column,axis=1, inplace=True) for column in ColumsToDrop]\n",
    "\n",
    "\n",
    "# Filter out unneeded rows\n",
    "# Drop rows with nothing in them\n",
    "RawData = RawData[RawData.index.notnull()]\n",
    "\n",
    "# Get the row location of where the MIDs and Peak Areas start\n",
    "MID_index = RawData.index.get_loc('MIDs')\n",
    "AreaIndex = RawData.index.get_loc('Peak Areas (ion counts * seconds)')\n",
    "\n",
    "# Inidcate which fragments need the peak areas to compute ratios\n",
    "SpecialFragments = ['lactate_233', 'lactate_261', 'HPA_261']\n",
    "\n",
    "# Perform the row filtering\n",
    "RowsToKeep = [((i>MID_index) | (RawData.index[i] in SpecialFragments)) & (i>AreaIndex) for i in range(len(RawData.index))]\n",
    "RawData = RawData[RowsToKeep]"
   ]
  },
  {
   "cell_type": "code",
   "execution_count": 126,
   "metadata": {},
   "outputs": [],
   "source": [
    "# Create a data frame to contain the ratios of metabolites to internal standards\n",
    "Ratios = pd.DataFrame(index=RawData.index, columns=RawData.columns)\n",
    "\n",
    "# Remove rows corresponding to the peak areas for fragments that rely on peak areas\n",
    "[Ratios.drop(fragment, axis=0, inplace=True) for fragment in SpecialFragments]\n",
    "\n",
    "# Rename the rows to correspond to fragments (i.e. remove the M0 or M1)\n",
    "Ratios.index = [i.split(' ')[0] for i in Ratios.index]\n",
    "\n",
    "# Drop duplicate row names - each fragment had a name that came from the M0 and M1 forms of the fragment\n",
    "Ratios = Ratios[~Ratios.index.duplicated(keep='first')]\n",
    "\n",
    "# After removing the M0 and M1, the row corresponding to the internal standard for lactate needs to be removed\n",
    "Ratios.drop('HPA_261', axis=0, inplace=True)\n",
    "\n",
    "# Compute the ratios for lactate independently because it relies on peak area ratios\n",
    "Ratios.loc['lactate_233',:] = RawData.loc['lactate_233',:]/RawData.loc['HPA_261',:]\n",
    "Ratios.loc['lactate_261',:] = RawData.loc['lactate_261',:]/RawData.loc['HPA_261',:]\n",
    "\n",
    "# Compute the ratios for the remaining fragments\n",
    "for i in Ratios.index:\n",
    "    if i not in SpecialFragments:\n",
    "        numerator = RawData.loc[i+' M0',:]\n",
    "        denominator = RawData.loc[i+ ' M1',:]\n",
    "        Ratios.loc[i,:] = np.divide(numerator.to_numpy(), denominator.to_numpy(), out=np.full_like(numerator.to_numpy(), np.nan), where=denominator.to_numpy()!=0)"
   ]
  }
 ],
 "metadata": {
  "kernelspec": {
   "display_name": "analysis",
   "language": "python",
   "name": "python3"
  },
  "language_info": {
   "codemirror_mode": {
    "name": "ipython",
    "version": 3
   },
   "file_extension": ".py",
   "mimetype": "text/x-python",
   "name": "python",
   "nbconvert_exporter": "python",
   "pygments_lexer": "ipython3",
   "version": "3.12.2"
  }
 },
 "nbformat": 4,
 "nbformat_minor": 2
}
