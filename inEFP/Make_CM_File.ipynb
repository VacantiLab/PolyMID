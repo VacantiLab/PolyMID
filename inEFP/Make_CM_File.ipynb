{
 "cells": [
  {
   "cell_type": "code",
   "execution_count": 4,
   "metadata": {},
   "outputs": [],
   "source": [
    "import sys\n",
    "sys.path.append(\"../../\")\n",
    "import PolyMID\n",
    "import pandas as pd\n",
    "from PolyMID.AnalyzeSpectra import fragment_library"
   ]
  },
  {
   "cell_type": "code",
   "execution_count": 5,
   "metadata": {},
   "outputs": [
    {
     "name": "stdout",
     "output_type": "stream",
     "text": [
      "    pyruvate_mox_tbdms\n",
      "    lactate_2tbdms\n",
      "    alanine_2tbdms\n",
      "    glycine_2tbdms\n",
      "    3-hydroxypropionicacid_2tbdms\n",
      "    valine_2tbdms\n",
      "    norvaline_2tbdms\n",
      "    beta-alanine_2tbdms\n",
      "    leucine_2tbdms\n",
      "    isoleucine_2tbdms\n",
      "    succinate_2tbdms\n",
      "    uracil_2tbdms\n",
      "    fumarate_2tbdms\n",
      "    serine_3tbdms\n",
      "    threonine_3tbdms\n",
      "    taurine_2tbdms\n",
      "    methionine_2tbdms\n",
      "    alpha-ketoglutarate_mox_2tbdms\n",
      "    malate_3tbdms\n",
      "    phenylalanine_2tbdms\n",
      "    aspartate_3tbdms\n",
      "    proline_MOX_2tbdms\n",
      "    glutamate_3tbdms\n",
      "    asparagine_3tbdms\n",
      "    lysine_3tbdms\n",
      "    glutamine_3tbdms\n",
      "    arginine_4tbdms\n",
      "    citrate_4tbdms\n",
      "    tyrosine_3tbdms\n",
      "    histidine_3tbdms\n",
      "    tryptophan_3tbdms\n",
      "    glucose\n",
      "    glucose_clean\n"
     ]
    }
   ],
   "source": [
    "file_directory = './'\n",
    "metabolite_dict,metabolite_list = fragment_library.fragment_library(file_directory=file_directory,Full_NC=False)"
   ]
  },
  {
   "cell_type": "code",
   "execution_count": 25,
   "metadata": {},
   "outputs": [],
   "source": [
    "Standard_MID_DF = pd.read_csv('Internal_Standards.txt', delimiter='\\t', index_col=0)\n",
    "fragments = Standard_MID_DF.columns\n",
    "\n",
    "for met_key in metabolite_dict.keys():\n",
    "    for frag_key in metabolite_dict[met_key]['fragments'].keys():\n",
    "        if frag_key in fragments:\n",
    "            Natural_MID = metabolite_dict[met_key]['fragments'][frag_key]['natural_mid'][0:10]\n",
    "            frag_key_position = Standard_MID_DF.columns.get_loc(frag_key)\n",
    "            Standard_MID_DF.iloc[0:10,frag_key_position] = Natural_MID\n",
    "\n",
    "Standard_MID_DF.to_csv('filename.txt', sep='\\t', index=True, header=True)"
   ]
  }
 ],
 "metadata": {
  "kernelspec": {
   "display_name": "analysis",
   "language": "python",
   "name": "python3"
  },
  "language_info": {
   "codemirror_mode": {
    "name": "ipython",
    "version": 3
   },
   "file_extension": ".py",
   "mimetype": "text/x-python",
   "name": "python",
   "nbconvert_exporter": "python",
   "pygments_lexer": "ipython3",
   "version": "3.9.18"
  }
 },
 "nbformat": 4,
 "nbformat_minor": 2
}
